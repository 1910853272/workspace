{
 "cells": [
  {
   "cell_type": "code",
   "execution_count": null,
   "metadata": {
    "colab": {
     "base_uri": "https://localhost:8080/"
    },
    "id": "jXFWwknbX8ZF",
    "outputId": "1e545518-544e-49a0-c78e-2b8f5b530bfb"
   },
   "source": [
    "import os\n",
    "path = \"/content/RC-TRY-1\"\n",
    "os.chdir(path)\n",
    "print(os.getcwd())"
   ],
   "outputs": []
  },
  {
   "cell_type": "code",
   "execution_count": null,
   "metadata": {
    "colab": {
     "base_uri": "https://localhost:8080/"
    },
    "id": "fdH8pUMVaRgi",
    "outputId": "2f298e00-1ca8-4498-a72d-eb6ddb8ae85b"
   },
   "source": [
    "pip install Pillow"
   ],
   "outputs": []
  },
  {
   "cell_type": "code",
   "execution_count": null,
   "metadata": {
    "colab": {
     "base_uri": "https://localhost:8080/",
     "height": 406
    },
    "id": "l4cbA-JxaRd3",
    "outputId": "89e66daf-e79f-42c4-e504-78131dfac5ff"
   },
   "source": [
    "from PIL import Image\n",
    "import numpy as np\n",
    "import matplotlib.pyplot as plt\n",
    "\n",
    "# 加载本地图像\n",
    "img_path = '/content/RC-TRY-1/digit_8.png'  # 替换为本地图像的路径\n",
    "img = Image.open(img_path)\n",
    "\n",
    "# 转换为 numpy 数组（如果需要）\n",
    "img_array = np.array(img)\n",
    "\n",
    "# 显示图像\n",
    "plt.imshow(img_array, cmap='gray')  # 适用于灰度图像\n",
    "plt.axis('off')  # 关闭坐标轴显示\n",
    "plt.show()\n"
   ],
   "outputs": []
  },
  {
   "cell_type": "code",
   "execution_count": null,
   "metadata": {
    "colab": {
     "base_uri": "https://localhost:8080/",
     "height": 1000
    },
    "collapsed": true,
    "id": "tMIP69qBaRaa",
    "outputId": "c2b56634-5eb2-4695-e2f0-eff264debcde"
   },
   "source": [
    "from PIL import Image\n",
    "import numpy as np\n",
    "import matplotlib.pyplot as plt\n",
    "\n",
    "# 加载本地图像\n",
    "img_path = '/content/RC-TRY-1/digit_8.png'  # 替换为本地图像的路径\n",
    "img = Image.open(img_path)\n",
    "\n",
    "# 转换为 numpy 数组\n",
    "img_array = np.array(img)\n",
    "\n",
    "# 检查图像是否是灰度图像\n",
    "if len(img_array.shape) > 2 and img_array.shape[2] > 1:\n",
    "    img_array = img_array[:, :, 0]  # 如果是 RGB 图像，取第一个通道\n",
    "\n",
    "# 将 28×28 图像展平为 1D 数组\n",
    "flattened_img = img_array.flatten()\n",
    "\n",
    "# 将展平的数组按每 4 个像素切分，得到 196 个小块\n",
    "blocks = [flattened_img[i:i + 4] for i in range(0, len(flattened_img), 4)]\n",
    "\n",
    "# 将每个小块重塑为 1×4 的子图\n",
    "sub_images = [block.reshape(1, 4) for block in blocks]\n",
    "\n",
    "# 创建 196×1 的子图网格来显示这些子图\n",
    "fig, axes = plt.subplots(196, 1, figsize=(2, 150))  # 设置子图网格，196 行 1 列\n",
    "plt.subplots_adjust(hspace=0.5)  # 调整子图间的间距\n",
    "\n",
    "for i, ax in enumerate(axes):\n",
    "    # 显示每个 1×4 的子图\n",
    "    ax.imshow(sub_images[i], cmap='gray', aspect='auto')  # aspect='auto' 保证比例正确\n",
    "    ax.axis('off')  # 关闭坐标轴\n",
    "\n",
    "plt.show()\n"
   ],
   "outputs": []
  },
  {
   "cell_type": "code",
   "execution_count": null,
   "metadata": {
    "colab": {
     "base_uri": "https://localhost:8080/"
    },
    "collapsed": true,
    "id": "FpKQQtlCosv3",
    "outputId": "738ed3e0-c6f5-4b3f-b732-e506764aa65d"
   },
   "source": [
    "from PIL import Image\n",
    "import numpy as np\n",
    "\n",
    "# 加载本地图像\n",
    "img_path = '/content/RC-TRY-1/digit_8.png'  # 替换为本地图像的路径\n",
    "img = Image.open(img_path)\n",
    "\n",
    "# 转换为 numpy 数组\n",
    "img_array = np.array(img)\n",
    "\n",
    "# 检查图像是否是灰度图像\n",
    "if len(img_array.shape) > 2 and img_array.shape[2] > 1:\n",
    "    img_array = img_array[:, :, 0]  # 如果是 RGB 图像，取第一个通道\n",
    "\n",
    "# 将 28×28 图像展平为 1D 数组\n",
    "flattened_img = img_array.flatten()\n",
    "\n",
    "# 将展平的数组按每 4 个像素切分，并将其二值化（白色为1，黑色为0）\n",
    "binary_blocks = np.array([flattened_img[i:i + 4] > 128 for i in range(0, len(flattened_img), 4)]).astype(int)\n",
    "\n",
    "# 输出为一个 196×4 的矩阵\n",
    "print(\"196×4 的二值化矩阵：\")\n",
    "print(binary_blocks)\n"
   ],
   "outputs": []
  },
  {
   "cell_type": "code",
   "execution_count": null,
   "metadata": {
    "colab": {
     "base_uri": "https://localhost:8080/"
    },
    "id": "OfQeI_K7aRVk",
    "outputId": "81acc7aa-a86b-4569-d6bf-0f5fc7fd7b96"
   },
   "source": [
    "from PIL import Image\n",
    "import numpy as np\n",
    "\n",
    "# 加载本地图像\n",
    "img_path = '/content/drive/MyDrive/minist-data-rc-work/minist-png/digit_7.png'  # 替换为本地图像的路径\n",
    "img = Image.open(img_path)\n",
    "\n",
    "# 转换为 numpy 数组\n",
    "img_array = np.array(img)\n",
    "\n",
    "# 检查图像是否是灰度图像\n",
    "if len(img_array.shape) > 2 and img_array.shape[2] > 1:\n",
    "    img_array = img_array[:, :, 0]  # 如果是 RGB 图像，取第一个通道\n",
    "\n",
    "# 将 28×28 图像展平为 1D 数组\n",
    "flattened_img = img_array.flatten()\n",
    "\n",
    "# 将展平的数组按每 4 个像素切分，并将其二值化（白色为1，黑色为0）\n",
    "binary_blocks = np.array([flattened_img[i:i + 4] > 128 for i in range(0, len(flattened_img), 4)]).astype(int)\n",
    "\n",
    "# 指定保存的文件路径\n",
    "save_path = '/content/drive/MyDrive/minist-data-rc-work/minist-npy/digit_7.npy'  # 替换为你想要保存的路径\n",
    "\n",
    "# 保存为 .npy 文件\n",
    "np.save(save_path, binary_blocks)\n",
    "\n",
    "# 输出保存的文件路径\n",
    "print(f\"文件已保存为 {save_path}\")\n",
    "\n"
   ],
   "outputs": []
  },
  {
   "cell_type": "code",
   "execution_count": 55,
   "metadata": {
    "colab": {
     "base_uri": "https://localhost:8080/",
     "height": 1000
    },
    "collapsed": true,
    "id": "-J1g0a11aRSc",
    "outputId": "a041a3fb-9d08-4bf4-c92d-fdde64bce695"
   },
   "source": [
    "import numpy as np\n",
    "import matplotlib.pyplot as plt\n",
    "from glob import glob\n",
    "import json\n",
    "from collections import Counter\n",
    "\n",
    "# 更新文件路径\n",
    "file_path = '/content/drive/MyDrive/minist-data-rc-work/minist-npy/'  # 你可以修改为实际路径\n",
    "\n",
    "# 使用 glob 获取所有 .npy 文件\n",
    "letters = glob(file_path + '*.npy')  # 获取目录下所有 .npy 文件\n",
    "\n",
    "# 如果需要只读取前 10 个文件，可以这样选择：\n",
    "letters = letters[:10]  # 选择前 10 个文件\n",
    "\n",
    "# 加载所有的 .npy 文件\n",
    "ls = list(map(np.load, letters))\n",
    "\n",
    "# 提取文件名作为字典的键\n",
    "get_letter = lambda x: x.split('/')[-1].split('.')[0]  # 只取文件名，不包含路径\n",
    "\n",
    "# 将文件名和数据对应，创建一个字典\n",
    "d = dict(zip(list(map(get_letter, letters)), ls))\n",
    "\n",
    "# 打印字典，查看每个字母对应的数据\n",
    "print(d)\n",
    "\n",
    "# 将字典保存为 .json 文件\n",
    "save_json_path = '/content/drive/MyDrive/minist-data-rc-work/minist_dict.json'\n",
    "\n",
    "# 转换字典中的 NumPy 数组为列表（以便存储为 JSON）\n",
    "d_json_compatible = {key: value.tolist() for key, value in d.items()}\n",
    "\n",
    "# 保存字典为 JSON 文件\n",
    "with open(save_json_path, 'w') as json_file:\n",
    "    json.dump(d_json_compatible, json_file)\n",
    "\n",
    "# 确认保存成功\n",
    "print(f\"字典已保存为 {save_json_path}\")\n",
    "\n",
    "#%% 绘制字母图像\n",
    "if len(letters) > 0:  # 确保有文件可以绘制\n",
    "    # 设置图像的尺寸，单位为英寸，宽度和高度适当增加，确保图像清晰可见\n",
    "    fig, ax = plt.subplots(len(letters)//2, 2, figsize=(100, 200), dpi=200)  # 增加 figsize 和 dpi 确保图像清晰\n",
    "\n",
    "    ax = [a for ae in ax for a in ae]  # Flatten the axes\n",
    "\n",
    "    for i, lett in enumerate(letters):\n",
    "        data = np.load(lett)\n",
    "        ax[i].imshow(data, cmap=plt.cm.Greens, clim=[-1, 2])  # 根据实际数据调整颜色映射\n",
    "        ax[i].axis('off')  # 不显示坐标轴\n",
    "\n",
    "    plt.subplots_adjust(wspace=0.1, hspace=0.1)  # 调整子图间距\n",
    "    plt.show()\n"
   ],
   "outputs": []
  },
  {
   "cell_type": "code",
   "execution_count": 60,
   "metadata": {
    "colab": {
     "base_uri": "https://localhost:8080/",
     "height": 1000
    },
    "collapsed": true,
    "id": "UfxvYy2DKNZo",
    "outputId": "a17254dd-dcbd-4efb-d2f4-3f22f43ae88e"
   },
   "source": [
    "import numpy as np\n",
    "import matplotlib.pyplot as plt\n",
    "import json\n",
    "from collections import Counter\n",
    "\n",
    "# 输入信号和对应的输出值映射\n",
    "data_mapping = {\n",
    "    '0000': 0,\n",
    "    '0001': 85.89,\n",
    "    '0010': 72.72,\n",
    "    '0011': 132.42,\n",
    "    '0100': 51.78,\n",
    "    '0101': 126.98,\n",
    "    '0110': 101.31,\n",
    "    '0111': 219.68,\n",
    "    '1000': 35.78,\n",
    "    '1001': 123.67,\n",
    "    '1010': 93.48,\n",
    "    '1011': 193.32,\n",
    "    '1100': 81.43,\n",
    "    '1101': 214.48,\n",
    "    '1110': 164.17,\n",
    "    '1111': 251.4\n",
    "}\n",
    "\n",
    "def output_row(initial_state, input_signal):\n",
    "    \"\"\"\n",
    "    模拟忆阻器行为，基于数据映射返回输出值。\n",
    "    \"\"\"\n",
    "    # 确保 input_signal 是 NumPy 数组\n",
    "    input_signal = np.array(input_signal)\n",
    "\n",
    "    # 将输入信号转为四位二进制字符串\n",
    "    signal_str = ''.join([str(int(x)) for x in input_signal.flatten()])  # 使用 flatten() 确保是1D数组\n",
    "\n",
    "    # 打印调试信息：输出转换后的 signal_str\n",
    "    print(f\"Converted input signal: {input_signal} -> {signal_str}\")\n",
    "\n",
    "    # 从映射中获取输出值\n",
    "    output = data_mapping.get(signal_str, None)\n",
    "\n",
    "    if output is None:\n",
    "        print(f\"Warning: 输入信号 {signal_str} 在映射中找不到。\")\n",
    "        # 打印所有映射的键，以便调试\n",
    "        print(f\"Available mapping keys: {list(data_mapping.keys())}\")\n",
    "        return None\n",
    "\n",
    "    return output\n",
    "\n",
    "\n",
    "# 示例输入\n",
    "initial_state = 0.5  # 任意初始状态\n",
    "\n",
    "# 模拟不同的输入信号（从0000到1111的所有可能组合）\n",
    "outputs = []\n",
    "for i in range(16):\n",
    "    # 将i转换为4位二进制数组作为输入信号\n",
    "    inp_signal = np.array([int(x) for x in format(i, '04b')])\n",
    "    output = output_row(initial_state, inp_signal)\n",
    "    outputs.append(output)\n",
    "\n",
    "# 打印结果\n",
    "print(\"Output for each input signal:\")\n",
    "for signal, output in zip([format(i, '04b') for i in range(16)], outputs):\n",
    "    print(f\"Signal: {signal}, Output: {output}\")\n",
    "\n",
    "# 画图（假设你想查看不同输入信号对应的输出）\n",
    "fig, ax = plt.subplots(2, 1)\n",
    "t = np.arange(16)\n",
    "ax[0].plot(t, outputs, '-o')\n",
    "ax[0].set_title(\"Output for different input signals\")\n",
    "ax[0].set_xlabel(\"Input signal index\")\n",
    "ax[0].set_ylabel(\"Output value\")\n",
    "\n",
    "plt.tight_layout()\n",
    "plt.show()\n",
    "\n",
    "# 读取保存的 JSON 文件\n",
    "d_json_path = '/content/drive/MyDrive/minist-data-rc-work/minist_dict.json'  # 替换为你的文件路径\n",
    "with open(d_json_path, 'r') as json_file:\n",
    "    loaded_data = json.load(json_file)\n",
    "\n",
    "# 将 JSON 中的列表数据转换为 NumPy 数组\n",
    "for key, value in loaded_data.items():\n",
    "    loaded_data[key] = np.array(value)\n",
    "\n",
    "# 初始化矩阵\n",
    "matrix = np.zeros((10, 197))  # 矩阵的最后一列用于存放随机噪声\n",
    "\n",
    "# 遍历字典 d，处理每个数字（0-9）\n",
    "for nl, digit in enumerate(d.keys()):\n",
    "    inp_signal = d[digit]  # 获取当前数字的输入信号\n",
    "\n",
    "    # 将输入信号按每四位进行分段处理\n",
    "    num_chunks = len(inp_signal) // 1  # 计算有多少个四位段\n",
    "\n",
    "    # 遍历每个四位段并进行处理\n",
    "    for i in range(num_chunks):\n",
    "        chunk = inp_signal[i * 1: (i + 1) * 1]  # 提取四位\n",
    "        output = output_row(initial_state, chunk)  # 对四位进行处理\n",
    "\n",
    "        if output is not None:\n",
    "            matrix[nl, i] = output  # 将每个四位段的输出值存入矩阵对应位置\n",
    "\n",
    "# 添加随机噪声到矩阵的最后一列\n",
    "matrix[:, 196] = 2.5 * np.random.random((10,))\n",
    "\n",
    "# 可视化矩阵\n",
    "fig, ax = plt.subplots(2, 1, figsize=(12, 6))  # 调整图像大小\n",
    "im = ax[0].imshow(matrix, extent=[1, 197, 1, 10], aspect='equal', cmap='coolwarm', interpolation='nearest')\n",
    "\n",
    "# 设置标题和颜色条\n",
    "ax[0].set_title(\"Output matrix for each digit\")\n",
    "ax[0].set_xlabel(\"Output Index\")\n",
    "ax[0].set_ylabel(\"Digit (0-9)\")\n",
    "\n",
    "# 添加颜色条\n",
    "cbar = fig.colorbar(im, ax=ax[0])\n",
    "cbar.set_label(\"Output Value\", rotation=270, labelpad=15)\n",
    "\n",
    "# 调整布局\n",
    "plt.tight_layout()\n",
    "plt.show()\n"
   ],
   "outputs": []
  },
  {
   "cell_type": "code",
   "execution_count": null,
   "metadata": {
    "id": "JZFf3mD4PsKE"
   },
   "source": [],
   "outputs": []
  },
  {
   "cell_type": "code",
   "execution_count": null,
   "metadata": {
    "id": "hZh1FTOVPsHd"
   },
   "source": [],
   "outputs": []
  },
  {
   "cell_type": "code",
   "execution_count": null,
   "metadata": {
    "id": "9SCeOr35PsFG"
   },
   "source": [],
   "outputs": []
  },
  {
   "cell_type": "code",
   "execution_count": null,
   "metadata": {
    "id": "PAWVGxhzPr_c"
   },
   "source": [],
   "outputs": []
  }
 ],
 "metadata": {
  "colab": {
   "provenance": []
  },
  "kernelspec": {
   "display_name": "Python 3",
   "name": "python3"
  },
  "language_info": {
   "name": "python"
  }
 },
 "nbformat": 4,
 "nbformat_minor": 0
}
