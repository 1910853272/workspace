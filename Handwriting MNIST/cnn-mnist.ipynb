{
 "cells": [
  {
   "cell_type": "code",
   "execution_count": 18,
   "metadata": {},
   "source": [
    "#1加载必要的库\n",
    "import torch\n",
    "import torch.nn as nn\n",
    "import torch.nn.functional as F\n",
    "\n",
    "from torch.optim.optimizer import Optimizer\n",
    "import math\n",
    "import pandas as pd\n",
    "import numpy as np\n",
    "import matplotlib.pyplot as plt\n",
    "from torchvision import datasets,transforms"
   ],
   "outputs": []
  },
  {
   "cell_type": "code",
   "execution_count": 108,
   "metadata": {},
   "source": [
    "#定义晶体管参数\n",
    "Pmax=501\n",
    "Gmax=1\n",
    "Gmin=0\n",
    "o0=0.01 #c2c 引入器件误差\n",
    "def G(x):\n",
    "  return (1-np.exp(-x/100))/0.9933\n",
    "def G_1(x):\n",
    "  return -np.log(1-x*0.9933)*100\n",
    "def wnew(w,dw):    \n",
    "  #Wq=torch.round(w*Pmax)/Pmax\n",
    "  Gq=(w-1)/2*(Gmax-Gmin)+Gmax\n",
    "  P=torch.round(G_1(Gq))\n",
    "  dp=torch.round(dw/2*Pmax)\n",
    "  Gnew=G(P+dp)\n",
    "  y=(Gnew-Gmin)/(Gmax-Gmin)*2-1\n",
    "  return y\n",
    "def wwnew(w,dw):\n",
    "  Gq=(w-1)/2*(Gmax-Gmin)+Gmax\n",
    "  P=(G_1(Gq))\n",
    "  dp=(dw/2*Pmax)\n",
    "  Gnew=G(P+dp)\n",
    "  y=(Gnew-Gmin)/(Gmax-Gmin)*2-1\n",
    " \n",
    "  \n",
    "  return y\n",
    "\n",
    "#晶体管权重更新函数\n",
    "a=torch.tensor([0,0.08])\n",
    "b=torch.tensor([0,0.0001])\n",
    "\n",
    "print(wwnew(a,b))"
   ],
   "outputs": []
  },
  {
   "cell_type": "code",
   "execution_count": 109,
   "metadata": {},
   "source": [
    "#2定义超参数\n",
    "BATCH_SIZE =128 # 每批处理的数据\n",
    "DEVICE = torch.device(\"cuda\"if torch.cuda.is_available() else \"cpu\")#\n",
    "EPOCHS = 20 #训练数据集的轮次\n"
   ],
   "outputs": []
  },
  {
   "cell_type": "code",
   "execution_count": 110,
   "metadata": {},
   "source": [
    "#3构建pipeline，对图像做处理\n",
    "pipeline = transforms.Compose([\n",
    "    transforms.ToTensor(),#将图片转换成tensor\n",
    "    transforms.Normalize((0.1307,),(0.3081,))#正则化：降低模型复杂度\n",
    " ])"
   ],
   "outputs": []
  },
  {
   "cell_type": "code",
   "execution_count": 111,
   "metadata": {},
   "source": [
    "#4下载，加载数据\n",
    "from torch.utils.data import DataLoader\n",
    "#下载数据集\n",
    "train_set = datasets.MNIST(\"data\",train=True,download=True,transform=pipeline)\n",
    "\n",
    "test_set = datasets.MNIST(\"data\",train=False,download=True,transform=pipeline)\n",
    "#加载数据集\n",
    "train_loader =DataLoader(train_set,batch_size=BATCH_SIZE,shuffle=True)\n",
    "\n",
    "test_loader= DataLoader(test_set,batch_size=BATCH_SIZE,shuffle=True)\n"
   ],
   "outputs": []
  },
  {
   "cell_type": "code",
   "execution_count": 112,
   "metadata": {},
   "source": [
    "# 插入代码，显示MNIST中图片\n",
    "with open(\"./data/MNIST/raw/train-images-idx3-ubyte\",\"rb\") as f:\n",
    "    file=f.read()"
   ],
   "outputs": []
  },
  {
   "cell_type": "code",
   "execution_count": 113,
   "metadata": {},
   "source": [
    "image1 = [int(str(item).encode(\"ascii\"),16) for item in file[16:16+784]]\n",
    "print(image1)\n",
    "image2 = [int(str(item).encode(\"ascii\"),16) for item in file[16+784:16+784*2]]\n",
    "print(image2)"
   ],
   "outputs": []
  },
  {
   "cell_type": "code",
   "execution_count": 114,
   "metadata": {},
   "source": [
    "import cv2\n",
    "import numpy as np\n",
    "\n",
    "image1_np =np.array(image1,dtype=np.uint8).reshape(28,28,1)\n",
    "print(image1_np.shape)\n",
    "cv2.imwrite(\"digit1.jpg\",image1_np)\n",
    "image2_np =np.array(image2,dtype=np.uint8).reshape(28,28,1)\n",
    "print(image2_np.shape)\n",
    "cv2.imwrite(\"digit2.jpg\",image2_np)"
   ],
   "outputs": []
  },
  {
   "cell_type": "code",
   "execution_count": 115,
   "metadata": {},
   "source": [
    "\n",
    "# 5 构建网络模型\n",
    "class Digit(nn.Module):\n",
    "    def __init__(self):\n",
    "        super().__init__()\n",
    "        self.conv1 = nn.Conv2d(1, 10, 5) #第一个卷积层（1：输入的灰度图的通道，10：输出通道，5：卷积层Kernel）\n",
    "        self.conv2 = nn.Conv2d(10, 20, 3) #第二个卷积层（10：输入通道，20：输出通道，3：卷积层Kernel）\n",
    "        self.fc1 = nn.Linear(20*10*10, 500) #第一个全连接层（20*10*10：输入通道，500：输出通道）\n",
    "        self.fc2 = nn.Linear(500, 10) #第二个全连接层（500：输入通道，10：输出通道【0~9】）\n",
    "        \n",
    "    def forward(self, x):\n",
    "        input_size = x.size(0) # batch_size\n",
    "        x = self.conv1(x) # 输入：batch*1*28*28，输出：batch*10*24*24 (28-5+1=24)\n",
    "        x = F.relu(x) #激活函数，保持shape不变，输出：batch*10*24*24\n",
    "        x = F.max_pool2d(x, 2, 2) #池化层 输入：batch*10*24*24， 输出：batch*10*12*12\n",
    "        \n",
    "        x = self.conv2(x) # 输入：batch*10*12*12，输出：batch*20*10*10 （12-3+1=10）\n",
    "        x = F.relu(x) # \n",
    "        \n",
    "        x = x.view(input_size, -1) # 拉平， -1：自动计算维度  20*10*10=2000\n",
    "        \n",
    "        x = self.fc1(x) # 输入：batch*2000 输出：batch*500\n",
    "        x = F.relu(x) # 激活， 保持shape不变\n",
    "        \n",
    "        x = self.fc2(x) # 输入：batch*500，输出：batch*10\n",
    "        \n",
    "        output = F.log_softmax(x, dim=1) #计算分类后，每个数字0~9的概率\n",
    "        \n",
    "        return output\n"
   ],
   "outputs": []
  },
  {
   "cell_type": "code",
   "execution_count": 116,
   "metadata": {},
   "source": [
    "#自定义优化器\n",
    "\n",
    "class MyOptimizer(Optimizer):\n",
    "    def __init__(self, params, lr):\n",
    "        self.lr = lr\n",
    "        super(MyOptimizer, self).__init__(params, {})\n",
    "\n",
    "    def step(self, closure=False):\t\n",
    "        \n",
    "        for param_group in self.param_groups:\n",
    "            params = param_group['params']\n",
    "            # 从param_group中拿出参数\n",
    "            for param in params:\n",
    "                # 循环更新每一个参数的值\n",
    "                #param.data = param.data - self.lr * param.grad #纯软件\n",
    "                param.data = wwnew(param.data,- self.lr*param.grad) #晶体管模拟\n",
    "\n"
   ],
   "outputs": []
  },
  {
   "cell_type": "code",
   "execution_count": 117,
   "metadata": {},
   "source": [
    "#6定义优化器\n",
    "model = Digit().to(DEVICE)\n",
    "#optimizer = optim.SGD(model.parameters(),0.1)\n",
    "optimizer = MyOptimizer(model.parameters(),0.01)\n"
   ],
   "outputs": []
  },
  {
   "cell_type": "code",
   "execution_count": 118,
   "metadata": {},
   "source": [
    "#7定义训练方法\n",
    "def train_model(model, device, train_loader, optimizer, epoch):\n",
    "    # 模型训练\n",
    "    model.train()\n",
    "    for batch_index, (img, target) in enumerate(train_loader):\n",
    "        # 将数据部署到DEVICE上去\n",
    "        img, target = img.to(device), target.to(device)\n",
    "        # 梯度初始化为0\n",
    "        optimizer.zero_grad()\n",
    "        # 训练后的结果\n",
    "        output = model(img)\n",
    "        # 计算loss\n",
    "        loss = F.cross_entropy(output, target) #cross_entropy适合多分类问题，将计算结果与真实值对比\n",
    "        # 反向传播\n",
    "        loss.backward()\n",
    "\n",
    "        # 参数优化\n",
    "        optimizer.step() # 用step方法更新参数\n",
    "      \n",
    "    \n",
    "        # 每隔3000张图片打印一次loss\n",
    "        if batch_index % 3000 == 0:\n",
    "            print(\"Train Epoch : {} \\t Loss : {:.8f}\".format(epoch, loss.item()))\n"
   ],
   "outputs": []
  },
  {
   "cell_type": "code",
   "execution_count": 119,
   "metadata": {},
   "source": [
    "# 8 定义测试方法\n",
    "\n",
    "def test_model(model, device, test_loader):\n",
    "    # 模型验证\n",
    "    model.eval()\n",
    "    # 初始化正确率\n",
    "    correct = 0.0\n",
    "    # 初始化测试loss\n",
    "    test_loss = 0.0\n",
    "    with torch.no_grad(): # 测试时不会计算梯度，也不会进行反向传播\n",
    "        for img, target in test_loader:\n",
    "            # 部署到DEVICE上\n",
    "            img, target = img.to(device), target.to(device)\n",
    "            # 测试数据\n",
    "            output = model(img)\n",
    "            # 计算测试损失\n",
    "            test_loss += F.cross_entropy(output, target).item()\n",
    "            # 找到概率最大下标\n",
    "            pred = output.max(1, keepdim=True)[1] #值，索引 \n",
    "                # pred = output.argmax(dim=1)\n",
    "                # pred = torch.max(output, dim=1)\n",
    "            # 累计正确的值\n",
    "            correct += pred.eq(target.view_as(pred)).sum().item()\n",
    "        test_loss /= len(test_loader.dataset)\n",
    "        test_accuracy =100 * correct / len(test_loader.dataset)\n",
    "        print(\"Test --Average loss : {:.4f}, Accuracy : {:.3f}\\n\".format(\n",
    "            test_loss, test_accuracy))\n",
    "    return(test_accuracy)\n"
   ],
   "outputs": []
  },
  {
   "cell_type": "code",
   "execution_count": 120,
   "metadata": {},
   "source": [
    "# 9 调用方法7、8\n",
    "import matplotlib\n",
    "import matplotlib.pyplot as plt\n",
    "from matplotlib import style\n",
    "\n",
    "plt.figure(figsize=(10, 10))  # 设置图像大小\n",
    "plt.axis([0, 10, 0, 100])\n",
    "for epoch in range(1, EPOCHS + 1):\n",
    "    train_model(model, DEVICE, train_loader, optimizer, epoch)\n",
    "    t_a=test_model(model, DEVICE, test_loader)\n",
    "    print(t_a)\n",
    "    plt.scatter(epoch, t_a,color='r', marker='o')\n",
    "    scale = range(100)\n",
    "\n",
    "\n",
    "plt.show()\n",
    "\n"
   ],
   "outputs": []
  }
 ],
 "metadata": {
  "kernelspec": {
   "display_name": "base",
   "language": "python",
   "name": "python3"
  },
  "language_info": {
   "codemirror_mode": {
    "name": "ipython",
    "version": 3
   },
   "file_extension": ".py",
   "mimetype": "text/x-python",
   "name": "python",
   "nbconvert_exporter": "python",
   "pygments_lexer": "ipython3",
   "version": "3.9.7"
  }
 },
 "nbformat": 4,
 "nbformat_minor": 2
}
