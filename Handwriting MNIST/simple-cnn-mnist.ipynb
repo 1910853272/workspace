Train Epoch : 1 	 Loss : 2.31208706
Test --Average loss : 0.0156, Accuracy : 66.180

66.18
Train Epoch : 2 	 Loss : 1.97023690
Test --Average loss : 0.0068, Accuracy : 80.880

80.88
Train Epoch : 3 	 Loss : 0.87538838
Test --Average loss : 0.0040, Accuracy : 86.310

86.31
Train Epoch : 4 	 Loss : 0.53821623
Test --Average loss : 0.0032, Accuracy : 88.860

88.86
Train Epoch : 5 	 Loss : 0.45686874
Test --Average loss : 0.0029, Accuracy : 89.670

89.67
Train Epoch : 6 	 Loss : 0.45400843
Test --Average loss : 0.0027, Accuracy : 90.310

90.31
Train Epoch : 7 	 Loss : 0.32036075
Test --Average loss : 0.0025, Accuracy : 90.900

90.9
Train Epoch : 8 	 Loss : 0.40985379
Test --Average loss : 0.0024, Accuracy : 91.420

91.42
Train Epoch : 9 	 Loss : 0.28187832
Test --Average loss : 0.0022, Accuracy : 91.940

91.94
Train Epoch : 10 	 Loss : 0.26192874
Test --Average loss : 0.0021, Accuracy : 92.490

92.49
Train Epoch : 11 	 Loss : 0.30123740
Test --Average loss : 0.0020, Accuracy : 92.590

92.59
Train Epoch : 12 	 Loss : 0.20478232
Test --Average loss : 0.0019, Accuracy : 93.030

93.03
Train Epoch : 13 	 Loss : 0.26691252
Test --Average loss : 0.0019, Accuracy : 93.330

93.33
Train Epoch : 14 	 Loss : 0.26957393
Test --Average loss : 0.0018, Accuracy : 93.560

93.56
Train Epoch : 15 	 Loss : 0.18205762
Test --Average loss : 0.0017, Accuracy : 93.850

93.85
Train Epoch : 16 	 Loss : 0.33838382
Test --Average loss : 0.0016, Accuracy : 94.210

94.21
Train Epoch : 17 	 Loss : 0.19284049
Test --Average loss : 0.0015, Accuracy : 94.470

94.47
Train Epoch : 18 	 Loss : 0.17833604
Test --Average loss : 0.0015, Accuracy : 94.580

94.58
Train Epoch : 19 	 Loss : 0.14649510
Test --Average loss : 0.0014, Accuracy : 94.910

94.91
Train Epoch : 20 	 Loss : 0.18888521
Test --Average loss : 0.0014, Accuracy : 94.910

94.91
